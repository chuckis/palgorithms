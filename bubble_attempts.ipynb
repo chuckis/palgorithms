{
 "metadata": {
  "language_info": {
   "codemirror_mode": {
    "name": "ipython",
    "version": 3
   },
   "file_extension": ".py",
   "mimetype": "text/x-python",
   "name": "python",
   "nbconvert_exporter": "python",
   "pygments_lexer": "ipython3",
   "version": "3.9.0"
  },
  "orig_nbformat": 2,
  "kernelspec": {
   "name": "python390jvsc74a57bd0232414ee127e66749771edaa013e98b8f8cd7e51bae758db82778d980a0e67f6",
   "display_name": "Python 3.9.0  ('venv': venv)"
  },
  "metadata": {
   "interpreter": {
    "hash": "232414ee127e66749771edaa013e98b8f8cd7e51bae758db82778d980a0e67f6"
   }
  }
 },
 "nbformat": 4,
 "nbformat_minor": 2,
 "cells": [
  {
   "source": [
    "# Пишем сортировку пузырьком"
   ],
   "cell_type": "markdown",
   "metadata": {}
  },
  {
   "cell_type": "code",
   "execution_count": null,
   "metadata": {},
   "outputs": [],
   "source": [
    "test_arr1 = [1, 5, 2, 4, 3, 1]\n",
    "test_arr2 = [5, 4, 3, 2, 1, 0]\n",
    "test_arr3 = [1, 4, 3, 2, 1, 0]"
   ]
  },
  {
   "cell_type": "code",
   "execution_count": 56,
   "metadata": {},
   "outputs": [],
   "source": [
    "def my_bubble_sort(a): # test_arr1 = [1, 5, 2, 4, 3, 1]\n",
    "    res = []\n",
    "    i = 0\n",
    "    while i < len(a)-1:\n",
    "        if a[i] > a[i+1]:\n",
    "            a[i], a[i+1] = a[i+1], a[i]\n",
    "            # print(a[i+1])\n",
    "        else:\n",
    "            res.append(a[i])\n",
    "        i+=1\n",
    "    return res"
   ]
  },
  {
   "source": [
    "Сортировка пузырьком:\n",
    "Если Ai > Ai+1, то меняем их местами\n",
    "Моменты: аут оф рейндж, ..\n",
    "\n",
    "Признаться, не смог!\n",
    "Съедает моя сортировка последний эелемент\n",
    "\n",
    "range(0, len(a))"
   ],
   "cell_type": "markdown",
   "metadata": {}
  },
  {
   "cell_type": "code",
   "execution_count": 58,
   "metadata": {
    "tags": []
   },
   "outputs": [
    {
     "output_type": "execute_result",
     "data": {
      "text/plain": [
       "[1, 1, 2, 3, 4]"
      ]
     },
     "metadata": {},
     "execution_count": 58
    }
   ],
   "source": [
    "# my_bubble_sort(test_arr1)\n",
    "my_bubble_sort(test_arr1)\n"
   ]
  },
  {
   "source": [
    "[Пример с интернетов](https://www.geeksforgeeks.org/python-program-for-bubble-sort/) "
   ],
   "cell_type": "markdown",
   "metadata": {}
  },
  {
   "cell_type": "code",
   "execution_count": 62,
   "metadata": {},
   "outputs": [
    {
     "output_type": "execute_result",
     "data": {
      "text/plain": [
       "[1, 1, 2, 3, 4, 5]"
      ]
     },
     "metadata": {},
     "execution_count": 62
    }
   ],
   "source": [
    "# Python program for implementation of Bubble Sort\n",
    "\n",
    "def bubbleSort(arr):\n",
    "\tn = len(arr)\n",
    "\n",
    "\t# Traverse through all array elements\n",
    "\tfor i in range(n-1):\n",
    "\t# range(n) also work but outer loop will repeat one time more than needed.\n",
    "\n",
    "\t\t# Last i elements are already in place\n",
    "\t\tfor j in range(0, n-i-1):\n",
    "\n",
    "\t\t\t# traverse the array from 0 to n-i-1\n",
    "\t\t\t# Swap if the element found is greater\n",
    "\t\t\t# than the next element\n",
    "\t\t\tif arr[j] > arr[j+1] :\n",
    "\t\t\t\tarr[j], arr[j+1] = arr[j+1], arr[j]\n",
    "\n",
    "\n",
    "bubbleSort(test_arr1)\n",
    "test_arr1\n"
   ]
  }
 ]
}